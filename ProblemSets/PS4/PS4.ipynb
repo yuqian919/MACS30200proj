{
 "cells": [
  {
   "cell_type": "markdown",
   "metadata": {},
   "source": [
    "# PS4 #\n",
    "# Yuqian Gong #"
   ]
  },
  {
   "cell_type": "markdown",
   "metadata": {},
   "source": [
    "## 1(a) ##"
   ]
  },
  {
   "cell_type": "code",
   "execution_count": 1,
   "metadata": {
    "collapsed": true
   },
   "outputs": [],
   "source": [
    "import scipy.stats as sts\n",
    "import matplotlib.pyplot as plt\n",
    "import numpy as np"
   ]
  },
  {
   "cell_type": "code",
   "execution_count": 14,
   "metadata": {},
   "outputs": [
    {
     "data": {
      "text/plain": [
       "0.87012413662721189"
      ]
     },
     "execution_count": 14,
     "metadata": {},
     "output_type": "execute_result"
    }
   ],
   "source": [
    "T = 500\n",
    "sigma = 0.7\n",
    "unif_vec = sts.uniform.rvs(loc=0, scale=1, size=T,\n",
    "random_state=25)\n",
    "eps_vec = sts.norm.ppf(unif_vec, loc=0, scale=sigma)\n",
    "r = 0.85\n",
    "sigma = 0.7\n",
    "mu = 11.4\n",
    " \n",
    "z = np.zeros(500)\n",
    "z_0 = unif_vec[0]\n",
    "z[0] = z_0\n",
    "for i in range(1,500):\n",
    "    z_p = z[i - 1]\n",
    "    z_i = r * z_p + (1 - r) * mu + eps_vec[i]\n",
    "    z[i] = z_i"
   ]
  },
  {
   "cell_type": "code",
   "execution_count": 6,
   "metadata": {},
   "outputs": [
    {
     "data": {
      "image/png": "[encoded data removed]",
      "text/plain": [
       "<matplotlib.figure.Figure at 0x1a100f9128>"
      ]
     },
     "execution_count": 6,
     "metadata": {},
     "output_type": "execute_result"
    }
   ],
   "source": [
    "fig_1 = plt.figure()\n",
    "plt.plot(range(0, 100), z[:100])\n",
    "plt.title('The first 100 observations for z_t')\n",
    "plt.xlabel('t')\n",
    "plt.ylabel('z_t')\n",
    "fig_1"
   ]
  },
  {
   "cell_type": "markdown",
   "metadata": {},
   "source": [
    "## 1(b) ##"
   ]
  },
  {
   "cell_type": "code",
   "execution_count": 13,
   "metadata": {},
   "outputs": [
    {
     "data": {
      "text/plain": [
       "[1, 9.3000000000000007, 10.350000000000001, 11.4, 12.449999999999999]"
      ]
     },
     "execution_count": 13,
     "metadata": {},
     "output_type": "execute_result"
    }
   ],
   "source": [
    "z_lower = mu - 3 * sigma\n",
    "z_higher = mu + 3 * sigma \n",
    "z_vals = np.linspace(z_lower, z_higher, num = 5)"
   ]
  },
  {
   "cell_type": "markdown",
   "metadata": {},
   "source": [
    "## 1(c) ##"
   ]
  },
  {
   "cell_type": "code",
   "execution_count": 16,
   "metadata": {},
   "outputs": [
    {
     "data": {
      "text/plain": [
       "array([[ 0.75757576,  0.21212121,  0.03030303,  0.        ,  0.        ],\n",
       "       [ 0.09821429,  0.51785714,  0.33928571,  0.04464286,  0.        ],\n",
       "       [ 0.03184713,  0.22292994,  0.47770701,  0.23566879,  0.03184713],\n",
       "       [ 0.        ,  0.04273504,  0.34188034,  0.5042735 ,  0.11111111],\n",
       "       [ 0.        ,  0.        ,  0.04255319,  0.34042553,  0.61702128]])"
      ]
     },
     "execution_count": 16,
     "metadata": {},
     "output_type": "execute_result"
    }
   ],
   "source": [
    "min_z = min(z)\n",
    "max_z = max(z)\n",
    "p = np.zeros((5, 5))\n",
    "z_cuts = 0.5 * z_vals[:-1] + 0.5 * z_vals[1:]\n",
    "z_bins = [min_z - 1] + list(z_cuts)+ [max_z]\n",
    "for i in range (0, 5):\n",
    "    for j in range (0, 5):\n",
    "        num_c = 0\n",
    "        num_n = 0\n",
    "        i_low = z_bins[i]\n",
    "        i_high = z_bins[i + 1]\n",
    "        j_low = z_bins[j]\n",
    "        j_high = z_bins[j + 1]\n",
    "        for m in range(0, 499):\n",
    "            if z[m] > i_low and z[m] <= i_high and z[m+1] > j_low and z[m+1] <= j_high:\n",
    "                num_c += 1\n",
    "            if z[m] > i_low and z[m] <= i_high:\n",
    "                num_n += 1\n",
    "        p[i][j] = num_c/num_n\n",
    "p"
   ]
  },
  {
   "cell_type": "markdown",
   "metadata": {},
   "source": [
    "##  1(d) ##"
   ]
  },
  {
   "cell_type": "code",
   "execution_count": 20,
   "metadata": {},
   "outputs": [
    {
     "data": {
      "text/plain": [
       "array([ 0.07800906])"
      ]
     },
     "execution_count": 20,
     "metadata": {},
     "output_type": "execute_result"
    }
   ],
   "source": [
    "import numpy.linalg as LA\n",
    "\n",
    "t = np.array([[0],[0],[1],[0],[0]])\n",
    "t_3= np.dot(LA.matrix_power(p.T, 3), t)\n",
    "t_3[4]"
   ]
  },
  {
   "cell_type": "markdown",
   "metadata": {},
   "source": [
    "## 1(e) ##"
   ]
  },
  {
   "cell_type": "code",
   "execution_count": 23,
   "metadata": {},
   "outputs": [
    {
     "data": {
      "text/plain": [
       "array([ 0.13226453,  0.2244489 ,  0.31462926,  0.23446894,  0.09418838])"
      ]
     },
     "execution_count": 23,
     "metadata": {},
     "output_type": "execute_result"
    }
   ],
   "source": [
    "eigvals, eigvecmat = LA.eig(p.T)\n",
    "eigvec = eigvecmat[:, 1] / eigvecmat[:, 1].sum()\n",
    "stat_dist = eigvec\n",
    "stat_dist"
   ]
  },
  {
   "cell_type": "markdown",
   "metadata": {},
   "source": [
    "## 1(d) ##"
   ]
  },
  {
   "cell_type": "code",
   "execution_count": 24,
   "metadata": {},
   "outputs": [
    {
     "data": {
      "text/plain": [
       "500"
      ]
     },
     "execution_count": 24,
     "metadata": {},
     "output_type": "execute_result"
    }
   ],
   "source": [
    "len(unif_vec)"
   ]
  },
  {
   "cell_type": "code",
   "execution_count": 25,
   "metadata": {
    "collapsed": true
   },
   "outputs": [],
   "source": [
    "T = 500\n",
    "z1_0 = z_vals[2]\n",
    "z1_vec = np.zeros(T)\n",
    "\n",
    "z_t = z1_0\n",
    "zt_ind = 1\n",
    "for t_ind in range(T):\n",
    "    # Calculate new index and new value\n",
    "    ztp1_ind = \\\n",
    "        np.argwhere(unif_vec[t_ind] <= np.cumsum(p[zt_ind, :])).min()\n",
    "    z_tp1 = z_vals[ztp1_ind]\n",
    "    z1_vec[t_ind] = z_tp1\n",
    "    \n",
    "    # Update the current value and its index in the loop\n",
    "    z_t = z_tp1\n",
    "    zt_ind = ztp1_ind"
   ]
  },
  {
   "cell_type": "code",
   "execution_count": 28,
   "metadata": {},
   "outputs": [
    {
     "data": {
      "image/png": "[encoded data removed]",
      "text/plain": [
       "<matplotlib.figure.Figure at 0x1a189a5f60>"
      ]
     },
     "execution_count": 28,
     "metadata": {},
     "output_type": "execute_result"
    }
   ],
   "source": [
    "fig_2 = plt.figure()\n",
    "plt.plot(range(0, 500), z, color = \"blue\", label = \"not simulated\")\n",
    "plt.plot(range(0, 500), z1_vec, color = \"orange\", label = \"not simulated\")\n",
    "plt.title('The time series values vs markov simulated values')\n",
    "plt.xlabel('t')\n",
    "plt.ylabel('z_t')\n",
    "plt.legend(loc='lower right',prop={'size': 8})\n",
    "fig_2"
   ]
  },
  {
   "cell_type": "code",
   "execution_count": null,
   "metadata": {
    "collapsed": true
   },
   "outputs": [],
   "source": []
  }
 ],
 "metadata": {
  "kernelspec": {
   "display_name": "Python 3",
   "language": "python",
   "name": "python3"
  },
  "language_info": {
   "codemirror_mode": {
    "name": "ipython",
    "version": 3
   },
   "file_extension": ".py",
   "mimetype": "text/x-python",
   "name": "python",
   "nbconvert_exporter": "python",
   "pygments_lexer": "ipython3",
   "version": "3.6.2"
  }
 },
 "nbformat": 4,
 "nbformat_minor": 2
}
